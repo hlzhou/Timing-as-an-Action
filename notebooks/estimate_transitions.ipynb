{
 "cells": [
  {
   "cell_type": "code",
   "execution_count": 8,
   "metadata": {},
   "outputs": [
    {
     "name": "stdout",
     "output_type": "stream",
     "text": [
      "The autoreload extension is already loaded. To reload it, use:\n",
      "  %reload_ext autoreload\n"
     ]
    }
   ],
   "source": [
    "%load_ext autoreload\n",
    "%autoreload 2"
   ]
  },
  {
   "cell_type": "code",
   "execution_count": 9,
   "metadata": {},
   "outputs": [],
   "source": [
    "import numpy as np\n",
    "import torch\n",
    "import matplotlib.pyplot as plt\n",
    "\n",
    "import pandas as pd\n",
    "\n",
    "from matrix_estimation import get_expanded_T, run_estimation\n",
    "\n",
    "def plot_summary_df(df, ax, color, label, reps):\n",
    "    mean = df['mean']\n",
    "    std = df['std']\n",
    "    xs = df['N']\n",
    "    ax.plot(xs, mean, 'o-', color=color, label=label)\n",
    "    ax.fill_between(xs, mean - (1.69 * std / np.sqrt(reps)), mean + (1.69 *std / np.sqrt(reps)), color=color, alpha=0.1)"
   ]
  },
  {
   "cell_type": "code",
   "execution_count": 10,
   "metadata": {},
   "outputs": [],
   "source": [
    "results = {}"
   ]
  },
  {
   "cell_type": "code",
   "execution_count": 11,
   "metadata": {},
   "outputs": [],
   "source": [
    "num_deltas = 10\n",
    "actions = range(2)\n",
    "states = range(3)\n",
    "delta_names = list(range(1, num_deltas + 1))\n",
    "delays = range(len(delta_names))\n",
    "terminal_state = 2\n",
    "T_lr = 0.01 #03"
   ]
  },
  {
   "cell_type": "code",
   "execution_count": 12,
   "metadata": {},
   "outputs": [
    {
     "data": {
      "text/plain": [
       "tensor([[0.8900, 0.1000, 0.0100],\n",
       "        [0.1500, 0.8000, 0.0500],\n",
       "        [0.0000, 0.0000, 1.0000]])"
      ]
     },
     "execution_count": 12,
     "metadata": {},
     "output_type": "execute_result"
    }
   ],
   "source": [
    "\n",
    "true_T = np.array([\n",
    "    [\n",
    "        [0.89, 0.1, 0.01],\n",
    "        [0.15, 0.8, 0.05],\n",
    "        [0.0, 0.0, 1.0]\n",
    "    ],\n",
    "    [\n",
    "        [0.1, 0.89, 0.01],\n",
    "        [0.8, 0.15, 0.05],\n",
    "        [0.0, 0.0, 1.0]\n",
    "    ],\n",
    "])\n",
    "get_expanded_T(torch.tensor(true_T), len(delta_names))[0, :, :, 0]"
   ]
  },
  {
   "cell_type": "code",
   "execution_count": 13,
   "metadata": {},
   "outputs": [
    {
     "data": {
      "text/plain": [
       "array([[[0.89, 0.1 , 0.01],\n",
       "        [0.15, 0.8 , 0.05],\n",
       "        [0.  , 0.  , 1.  ]],\n",
       "\n",
       "       [[0.1 , 0.89, 0.01],\n",
       "        [0.8 , 0.15, 0.05],\n",
       "        [0.  , 0.  , 1.  ]]])"
      ]
     },
     "execution_count": 13,
     "metadata": {},
     "output_type": "execute_result"
    }
   ],
   "source": [
    "true_T"
   ]
  },
  {
   "cell_type": "code",
   "execution_count": 14,
   "metadata": {
    "scrolled": true
   },
   "outputs": [],
   "source": [
    "Ns = [1, 2, 5, 10, 20, 50, 100]\n",
    "\n",
    "reps = 30\n",
    "convergence = 1e-5\n",
    "patience = 3\n",
    "device = torch.device('cpu')"
   ]
  },
  {
   "cell_type": "code",
   "execution_count": null,
   "metadata": {
    "scrolled": true
   },
   "outputs": [],
   "source": [
    "# exhaustive uniform deltas\n",
    "explore_deltas = range(num_deltas)\n",
    "\n",
    "summary = run_estimation(\n",
    "    true_T, delta_names, explore_deltas, Ns, reps, states, actions, device, terminal_state, \n",
    "    T_lr, convergence, patience, delta_schedule=None,exhaustive=True)\n",
    "\n",
    "fig, axes = plt.subplots(int(np.ceil(len(summary) / 2)), 2, figsize=(8 * 1.5, 2 * len(summary)))\n",
    "for i, metric in enumerate(summary.keys()):\n",
    "    if metric == 'expanded_est_T':\n",
    "        continue\n",
    "    \n",
    "    i1, i2 = i//2, i % 2\n",
    "    ax = axes[i1][i2]\n",
    "    summary_df = pd.DataFrame(summary[metric])\n",
    "    smart_df = summary_df[summary_df['estimator'] == 'smart']\n",
    "    dumb_df = summary_df[summary_df['estimator'] == 'dumb']\n",
    "    empirical_df = summary_df[summary_df['estimator'] == 'empirical']\n",
    "    \n",
    "    plot_summary_df(smart_df, ax, color='tab:blue', label='smart', reps=reps)\n",
    "    plot_summary_df(dumb_df, ax, color='tab:orange', label='dumb', reps=reps)\n",
    "    plot_summary_df(empirical_df, ax, color='tab:green', label='empirical', reps=reps)\n",
    "    ax.legend()\n",
    "    ax.set_ylabel(metric)\n",
    "    ax.set_xlabel('Number of repetitions of each (s,a,k) combo')\n",
    "    ax.set_title(metric)\n",
    "    ax.set_xscale('log')\n",
    "    # ax.set_xscale('log')\n",
    "plt.tight_layout()\n",
    "fig.suptitle('Uniform Delays')\n",
    "\n",
    "results['uniform_exhaustive_delays'] = summary"
   ]
  },
  {
   "cell_type": "code",
   "execution_count": null,
   "metadata": {},
   "outputs": [],
   "source": [
    "# sampling uniform deltas\n",
    "explore_deltas = range(num_deltas)\n",
    "\n",
    "summary = run_estimation(\n",
    "    true_T, delta_names, explore_deltas, Ns, reps, states, actions, device, terminal_state, \n",
    "    T_lr, convergence, patience, delta_schedule=None,exhaustive=False)\n",
    "\n",
    "fig, axes = plt.subplots(int(np.ceil(len(summary) / 2)), 2, figsize=(8 * 1.5, 2 * len(summary)))\n",
    "for i, metric in enumerate(summary.keys()):\n",
    "    if metric == 'expanded_est_T':\n",
    "        continue\n",
    "    i1, i2 = i//2, i % 2\n",
    "    ax = axes[i1][i2]\n",
    "    summary_df = pd.DataFrame(summary[metric])\n",
    "    smart_df = summary_df[summary_df['estimator'] == 'smart']\n",
    "    dumb_df = summary_df[summary_df['estimator'] == 'dumb']\n",
    "    empirical_df = summary_df[summary_df['estimator'] == 'empirical']\n",
    "\n",
    "    plot_summary_df(smart_df, ax, color='tab:blue', label='smart', reps=reps)\n",
    "    plot_summary_df(dumb_df, ax, color='tab:orange', label='dumb', reps=reps)\n",
    "    plot_summary_df(empirical_df, ax, color='tab:green', label='empirical', reps=reps)\n",
    "    ax.legend()\n",
    "    ax.set_ylabel(metric)\n",
    "    ax.set_xlabel('Number of repetitions of each (s,a,k) combo')\n",
    "    ax.set_title(metric)\n",
    "    ax.set_xscale('log')\n",
    "plt.tight_layout()\n",
    "fig.suptitle('Uniform Delays')\n",
    "\n",
    "results['uniform_sampling_delays'] = summary"
   ]
  },
  {
   "cell_type": "code",
   "execution_count": null,
   "metadata": {
    "scrolled": true
   },
   "outputs": [],
   "source": [
    "# max delta\n",
    "explore_deltas = [num_deltas - 1]\n",
    "\n",
    "summary = run_estimation(\n",
    "    true_T, delta_names, explore_deltas, Ns, reps, states, actions, device, terminal_state, \n",
    "    T_lr, convergence, patience, delta_schedule=None)\n",
    "\n",
    "fig, axes = plt.subplots(int(np.ceil(len(summary) / 2)), 2, figsize=(8 * 1.5, 2 * len(summary)))\n",
    "for i, metric in enumerate(summary.keys()):\n",
    "    if metric == 'expanded_est_T':\n",
    "        continue\n",
    "    \n",
    "    i1, i2 = i//2, i % 2\n",
    "    ax = axes[i1][i2]\n",
    "    summary_df = pd.DataFrame(summary[metric])\n",
    "    smart_df = summary_df[summary_df['estimator'] == 'smart']\n",
    "    dumb_df = summary_df[summary_df['estimator'] == 'dumb']\n",
    "    empirical_df = summary_df[summary_df['estimator'] == 'empirical']\n",
    "\n",
    "    plot_summary_df(smart_df, ax, color='tab:blue', label='smart', reps=reps)\n",
    "    plot_summary_df(dumb_df, ax, color='tab:orange', label='dumb', reps=reps)\n",
    "    plot_summary_df(empirical_df, ax, color='tab:green', label='empirical', reps=reps)\n",
    "    ax.legend()\n",
    "    ax.set_ylabel(metric)\n",
    "    ax.set_xlabel('Number of repetitions of each (s,a,k) combo')\n",
    "    ax.set_title(metric)\n",
    "plt.tight_layout()\n",
    "fig.suptitle('Max Delay Only')\n",
    "\n",
    "results['max_delta_delay'] = summary"
   ]
  },
  {
   "cell_type": "code",
   "execution_count": null,
   "metadata": {
    "scrolled": true
   },
   "outputs": [],
   "source": [
    "# min delta\n",
    "explore_deltas = [0]\n",
    "\n",
    "summary = run_estimation(\n",
    "    true_T, delta_names, explore_deltas, Ns, reps, states, actions, device, terminal_state, \n",
    "    T_lr, convergence, patience, delta_schedule=None)\n",
    "\n",
    "fig, axes = plt.subplots(int(np.ceil(len(summary) / 2)), 2, figsize=(8 * 1.5, 2 * len(summary)))\n",
    "for i, metric in enumerate(summary.keys()):\n",
    "    if metric == 'expanded_est_T':\n",
    "        continue\n",
    "    \n",
    "    i1, i2 = i//2, i % 2\n",
    "    ax = axes[i1][i2]\n",
    "    summary_df = pd.DataFrame(summary[metric])\n",
    "    smart_df = summary_df[summary_df['estimator'] == 'smart']\n",
    "    dumb_df = summary_df[summary_df['estimator'] == 'dumb']\n",
    "    empirical_df = summary_df[summary_df['estimator'] == 'empirical']\n",
    "\n",
    "    plot_summary_df(smart_df, ax, color='tab:blue', label='smart', reps=reps)\n",
    "    plot_summary_df(dumb_df, ax, color='tab:orange', label='dumb', reps=reps)\n",
    "    plot_summary_df(empirical_df, ax, color='tab:green', label='empirical', reps=reps)\n",
    "    ax.legend()\n",
    "    ax.set_ylabel(metric)\n",
    "    ax.set_xlabel('Number of repetitions of each (s,a,k) combo')\n",
    "    ax.set_title(metric)\n",
    "plt.tight_layout()\n",
    "fig.suptitle('Min Delay Only')\n",
    "\n",
    "results['min_delta_delay'] = summary"
   ]
  },
  {
   "cell_type": "code",
   "execution_count": 20,
   "metadata": {},
   "outputs": [],
   "source": [
    "import pickle\n",
    "with open('results/k10_done.pkl', 'wb') as fout:\n",
    "    pickle.dump(results, fout)"
   ]
  },
  {
   "cell_type": "code",
   "execution_count": null,
   "metadata": {},
   "outputs": [],
   "source": []
  },
  {
   "cell_type": "code",
   "execution_count": null,
   "metadata": {},
   "outputs": [],
   "source": []
  }
 ],
 "metadata": {
  "kernelspec": {
   "display_name": "Python 3",
   "language": "python",
   "name": "python3"
  },
  "language_info": {
   "codemirror_mode": {
    "name": "ipython",
    "version": 3
   },
   "file_extension": ".py",
   "mimetype": "text/x-python",
   "name": "python",
   "nbconvert_exporter": "python",
   "pygments_lexer": "ipython3",
   "version": "3.10.10"
  }
 },
 "nbformat": 4,
 "nbformat_minor": 2
}
